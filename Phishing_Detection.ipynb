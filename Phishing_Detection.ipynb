{
 "cells": [
  {
   "cell_type": "markdown",
   "id": "1ff240d4",
   "metadata": {},
   "source": [
    "#### Import Required Packages"
   ]
  },
  {
   "cell_type": "code",
   "execution_count": 78,
   "id": "ba49ff74",
   "metadata": {},
   "outputs": [],
   "source": [
    "import pandas as pd\n",
    "import matplotlib.pyplot as plt\n",
    "import seaborn as sns\n",
    "from sklearn.model_selection import train_test_split\n",
    "from sklearn.ensemble import RandomForestClassifier\n",
    "from sklearn import preprocessing\n",
    "from sklearn.metrics import accuracy_score, confusion_matrix, roc_auc_score\n",
    "from sklearn.svm import SVC\n",
    "from sklearn.neighbors import KNeighborsClassifier\n",
    "from sklearn.linear_model import LogisticRegression\n",
    "from sklearn.naive_bayes import GaussianNB, MultinomialNB, CategoricalNB, BernoulliNB, ComplementNB\n",
    "from sklearn.feature_selection import SelectKBest\n",
    "from sklearn.ensemble import VotingClassifier\n",
    "from sklearn.feature_selection import mutual_info_classif\n",
    "from sklearn.preprocessing import StandardScaler\n",
    "from sklearn.ensemble import BaggingRegressor\n",
    "from sklearn.metrics import classification_report"
   ]
  },
  {
   "cell_type": "markdown",
   "id": "f9e8c8f9",
   "metadata": {},
   "source": [
    "#### Explore dataset"
   ]
  },
  {
   "cell_type": "code",
   "execution_count": 79,
   "id": "8f8733c7",
   "metadata": {},
   "outputs": [
    {
     "data": {
      "text/html": [
       "<div>\n",
       "<style scoped>\n",
       "    .dataframe tbody tr th:only-of-type {\n",
       "        vertical-align: middle;\n",
       "    }\n",
       "\n",
       "    .dataframe tbody tr th {\n",
       "        vertical-align: top;\n",
       "    }\n",
       "\n",
       "    .dataframe thead th {\n",
       "        text-align: right;\n",
       "    }\n",
       "</style>\n",
       "<table border=\"1\" class=\"dataframe\">\n",
       "  <thead>\n",
       "    <tr style=\"text-align: right;\">\n",
       "      <th></th>\n",
       "      <th>url</th>\n",
       "      <th>length_url</th>\n",
       "      <th>length_hostname</th>\n",
       "      <th>ip</th>\n",
       "      <th>nb_dots</th>\n",
       "      <th>nb_hyphens</th>\n",
       "      <th>nb_at</th>\n",
       "      <th>nb_qm</th>\n",
       "      <th>nb_and</th>\n",
       "      <th>nb_or</th>\n",
       "      <th>...</th>\n",
       "      <th>domain_in_title</th>\n",
       "      <th>domain_with_copyright</th>\n",
       "      <th>whois_registered_domain</th>\n",
       "      <th>domain_registration_length</th>\n",
       "      <th>domain_age</th>\n",
       "      <th>web_traffic</th>\n",
       "      <th>dns_record</th>\n",
       "      <th>google_index</th>\n",
       "      <th>page_rank</th>\n",
       "      <th>status</th>\n",
       "    </tr>\n",
       "  </thead>\n",
       "  <tbody>\n",
       "    <tr>\n",
       "      <th>0</th>\n",
       "      <td>http://www.crestonwood.com/router.php</td>\n",
       "      <td>37</td>\n",
       "      <td>19</td>\n",
       "      <td>0</td>\n",
       "      <td>3</td>\n",
       "      <td>0</td>\n",
       "      <td>0</td>\n",
       "      <td>0</td>\n",
       "      <td>0</td>\n",
       "      <td>0</td>\n",
       "      <td>...</td>\n",
       "      <td>0</td>\n",
       "      <td>1</td>\n",
       "      <td>0</td>\n",
       "      <td>45</td>\n",
       "      <td>-1</td>\n",
       "      <td>0</td>\n",
       "      <td>1</td>\n",
       "      <td>1</td>\n",
       "      <td>4</td>\n",
       "      <td>legitimate</td>\n",
       "    </tr>\n",
       "    <tr>\n",
       "      <th>1</th>\n",
       "      <td>http://shadetreetechnology.com/V4/validation/a...</td>\n",
       "      <td>77</td>\n",
       "      <td>23</td>\n",
       "      <td>1</td>\n",
       "      <td>1</td>\n",
       "      <td>0</td>\n",
       "      <td>0</td>\n",
       "      <td>0</td>\n",
       "      <td>0</td>\n",
       "      <td>0</td>\n",
       "      <td>...</td>\n",
       "      <td>1</td>\n",
       "      <td>0</td>\n",
       "      <td>0</td>\n",
       "      <td>77</td>\n",
       "      <td>5767</td>\n",
       "      <td>0</td>\n",
       "      <td>0</td>\n",
       "      <td>1</td>\n",
       "      <td>2</td>\n",
       "      <td>phishing</td>\n",
       "    </tr>\n",
       "    <tr>\n",
       "      <th>2</th>\n",
       "      <td>https://support-appleld.com.secureupdate.duila...</td>\n",
       "      <td>126</td>\n",
       "      <td>50</td>\n",
       "      <td>1</td>\n",
       "      <td>4</td>\n",
       "      <td>1</td>\n",
       "      <td>0</td>\n",
       "      <td>1</td>\n",
       "      <td>2</td>\n",
       "      <td>0</td>\n",
       "      <td>...</td>\n",
       "      <td>1</td>\n",
       "      <td>0</td>\n",
       "      <td>0</td>\n",
       "      <td>14</td>\n",
       "      <td>4004</td>\n",
       "      <td>5828815</td>\n",
       "      <td>0</td>\n",
       "      <td>1</td>\n",
       "      <td>0</td>\n",
       "      <td>phishing</td>\n",
       "    </tr>\n",
       "    <tr>\n",
       "      <th>3</th>\n",
       "      <td>http://rgipt.ac.in</td>\n",
       "      <td>18</td>\n",
       "      <td>11</td>\n",
       "      <td>0</td>\n",
       "      <td>2</td>\n",
       "      <td>0</td>\n",
       "      <td>0</td>\n",
       "      <td>0</td>\n",
       "      <td>0</td>\n",
       "      <td>0</td>\n",
       "      <td>...</td>\n",
       "      <td>1</td>\n",
       "      <td>0</td>\n",
       "      <td>0</td>\n",
       "      <td>62</td>\n",
       "      <td>-1</td>\n",
       "      <td>107721</td>\n",
       "      <td>0</td>\n",
       "      <td>0</td>\n",
       "      <td>3</td>\n",
       "      <td>legitimate</td>\n",
       "    </tr>\n",
       "    <tr>\n",
       "      <th>4</th>\n",
       "      <td>http://www.iracing.com/tracks/gateway-motorspo...</td>\n",
       "      <td>55</td>\n",
       "      <td>15</td>\n",
       "      <td>0</td>\n",
       "      <td>2</td>\n",
       "      <td>2</td>\n",
       "      <td>0</td>\n",
       "      <td>0</td>\n",
       "      <td>0</td>\n",
       "      <td>0</td>\n",
       "      <td>...</td>\n",
       "      <td>0</td>\n",
       "      <td>1</td>\n",
       "      <td>0</td>\n",
       "      <td>224</td>\n",
       "      <td>8175</td>\n",
       "      <td>8725</td>\n",
       "      <td>0</td>\n",
       "      <td>0</td>\n",
       "      <td>6</td>\n",
       "      <td>legitimate</td>\n",
       "    </tr>\n",
       "    <tr>\n",
       "      <th>5</th>\n",
       "      <td>http://appleid.apple.com-app.es/</td>\n",
       "      <td>32</td>\n",
       "      <td>24</td>\n",
       "      <td>0</td>\n",
       "      <td>3</td>\n",
       "      <td>1</td>\n",
       "      <td>0</td>\n",
       "      <td>0</td>\n",
       "      <td>0</td>\n",
       "      <td>0</td>\n",
       "      <td>...</td>\n",
       "      <td>1</td>\n",
       "      <td>1</td>\n",
       "      <td>1</td>\n",
       "      <td>0</td>\n",
       "      <td>-1</td>\n",
       "      <td>0</td>\n",
       "      <td>0</td>\n",
       "      <td>1</td>\n",
       "      <td>0</td>\n",
       "      <td>phishing</td>\n",
       "    </tr>\n",
       "    <tr>\n",
       "      <th>6</th>\n",
       "      <td>http://www.mutuo.it</td>\n",
       "      <td>19</td>\n",
       "      <td>12</td>\n",
       "      <td>0</td>\n",
       "      <td>2</td>\n",
       "      <td>0</td>\n",
       "      <td>0</td>\n",
       "      <td>0</td>\n",
       "      <td>0</td>\n",
       "      <td>0</td>\n",
       "      <td>...</td>\n",
       "      <td>0</td>\n",
       "      <td>1</td>\n",
       "      <td>0</td>\n",
       "      <td>170</td>\n",
       "      <td>7529</td>\n",
       "      <td>0</td>\n",
       "      <td>0</td>\n",
       "      <td>0</td>\n",
       "      <td>1</td>\n",
       "      <td>legitimate</td>\n",
       "    </tr>\n",
       "    <tr>\n",
       "      <th>7</th>\n",
       "      <td>http://www.shadetreetechnology.com/V4/validati...</td>\n",
       "      <td>81</td>\n",
       "      <td>27</td>\n",
       "      <td>1</td>\n",
       "      <td>2</td>\n",
       "      <td>0</td>\n",
       "      <td>0</td>\n",
       "      <td>0</td>\n",
       "      <td>0</td>\n",
       "      <td>0</td>\n",
       "      <td>...</td>\n",
       "      <td>1</td>\n",
       "      <td>0</td>\n",
       "      <td>0</td>\n",
       "      <td>76</td>\n",
       "      <td>5767</td>\n",
       "      <td>0</td>\n",
       "      <td>0</td>\n",
       "      <td>1</td>\n",
       "      <td>2</td>\n",
       "      <td>phishing</td>\n",
       "    </tr>\n",
       "    <tr>\n",
       "      <th>8</th>\n",
       "      <td>http://vamoaestudiarmedicina.blogspot.com/</td>\n",
       "      <td>42</td>\n",
       "      <td>34</td>\n",
       "      <td>0</td>\n",
       "      <td>2</td>\n",
       "      <td>0</td>\n",
       "      <td>0</td>\n",
       "      <td>0</td>\n",
       "      <td>0</td>\n",
       "      <td>0</td>\n",
       "      <td>...</td>\n",
       "      <td>1</td>\n",
       "      <td>1</td>\n",
       "      <td>0</td>\n",
       "      <td>371</td>\n",
       "      <td>7298</td>\n",
       "      <td>0</td>\n",
       "      <td>0</td>\n",
       "      <td>0</td>\n",
       "      <td>5</td>\n",
       "      <td>legitimate</td>\n",
       "    </tr>\n",
       "    <tr>\n",
       "      <th>9</th>\n",
       "      <td>https://parade.com/425836/joshwigler/the-amazi...</td>\n",
       "      <td>104</td>\n",
       "      <td>10</td>\n",
       "      <td>0</td>\n",
       "      <td>1</td>\n",
       "      <td>10</td>\n",
       "      <td>0</td>\n",
       "      <td>0</td>\n",
       "      <td>0</td>\n",
       "      <td>0</td>\n",
       "      <td>...</td>\n",
       "      <td>1</td>\n",
       "      <td>0</td>\n",
       "      <td>0</td>\n",
       "      <td>128</td>\n",
       "      <td>9368</td>\n",
       "      <td>6774</td>\n",
       "      <td>0</td>\n",
       "      <td>0</td>\n",
       "      <td>5</td>\n",
       "      <td>legitimate</td>\n",
       "    </tr>\n",
       "  </tbody>\n",
       "</table>\n",
       "<p>10 rows × 89 columns</p>\n",
       "</div>"
      ],
      "text/plain": [
       "                                                 url  length_url  \\\n",
       "0              http://www.crestonwood.com/router.php          37   \n",
       "1  http://shadetreetechnology.com/V4/validation/a...          77   \n",
       "2  https://support-appleld.com.secureupdate.duila...         126   \n",
       "3                                 http://rgipt.ac.in          18   \n",
       "4  http://www.iracing.com/tracks/gateway-motorspo...          55   \n",
       "5                   http://appleid.apple.com-app.es/          32   \n",
       "6                                http://www.mutuo.it          19   \n",
       "7  http://www.shadetreetechnology.com/V4/validati...          81   \n",
       "8         http://vamoaestudiarmedicina.blogspot.com/          42   \n",
       "9  https://parade.com/425836/joshwigler/the-amazi...         104   \n",
       "\n",
       "   length_hostname  ip  nb_dots  nb_hyphens  nb_at  nb_qm  nb_and  nb_or  ...  \\\n",
       "0               19   0        3           0      0      0       0      0  ...   \n",
       "1               23   1        1           0      0      0       0      0  ...   \n",
       "2               50   1        4           1      0      1       2      0  ...   \n",
       "3               11   0        2           0      0      0       0      0  ...   \n",
       "4               15   0        2           2      0      0       0      0  ...   \n",
       "5               24   0        3           1      0      0       0      0  ...   \n",
       "6               12   0        2           0      0      0       0      0  ...   \n",
       "7               27   1        2           0      0      0       0      0  ...   \n",
       "8               34   0        2           0      0      0       0      0  ...   \n",
       "9               10   0        1          10      0      0       0      0  ...   \n",
       "\n",
       "   domain_in_title  domain_with_copyright  whois_registered_domain  \\\n",
       "0                0                      1                        0   \n",
       "1                1                      0                        0   \n",
       "2                1                      0                        0   \n",
       "3                1                      0                        0   \n",
       "4                0                      1                        0   \n",
       "5                1                      1                        1   \n",
       "6                0                      1                        0   \n",
       "7                1                      0                        0   \n",
       "8                1                      1                        0   \n",
       "9                1                      0                        0   \n",
       "\n",
       "   domain_registration_length  domain_age  web_traffic  dns_record  \\\n",
       "0                          45          -1            0           1   \n",
       "1                          77        5767            0           0   \n",
       "2                          14        4004      5828815           0   \n",
       "3                          62          -1       107721           0   \n",
       "4                         224        8175         8725           0   \n",
       "5                           0          -1            0           0   \n",
       "6                         170        7529            0           0   \n",
       "7                          76        5767            0           0   \n",
       "8                         371        7298            0           0   \n",
       "9                         128        9368         6774           0   \n",
       "\n",
       "   google_index  page_rank      status  \n",
       "0             1          4  legitimate  \n",
       "1             1          2    phishing  \n",
       "2             1          0    phishing  \n",
       "3             0          3  legitimate  \n",
       "4             0          6  legitimate  \n",
       "5             1          0    phishing  \n",
       "6             0          1  legitimate  \n",
       "7             1          2    phishing  \n",
       "8             0          5  legitimate  \n",
       "9             0          5  legitimate  \n",
       "\n",
       "[10 rows x 89 columns]"
      ]
     },
     "execution_count": 79,
     "metadata": {},
     "output_type": "execute_result"
    }
   ],
   "source": [
    "data=pd.read_csv(\"dataset_phishing.csv\")\n",
    "data.head(10)"
   ]
  },
  {
   "cell_type": "code",
   "execution_count": 80,
   "id": "595a8a89",
   "metadata": {},
   "outputs": [
    {
     "name": "stdout",
     "output_type": "stream",
     "text": [
      " The number of rows is: 11430 \n",
      " The numbe of features is: 89\n"
     ]
    }
   ],
   "source": [
    "print(\" The number of rows is:\",data.shape[0],\"\\n\",\"The numbe of features is:\",data.shape[1])"
   ]
  },
  {
   "cell_type": "markdown",
   "id": "ea6ab945",
   "metadata": {},
   "source": [
    "#### Dataset Information\n",
    "\n",
    "* Target Variable is : status with\n",
    "  * legitimate (considered as Label 1)\n",
    "  * phishing (considered as Label 0)\n",
    "* 87 Features around URL , all Numerical ,are from three different classes\n",
    "  * 56 extracted from the Structure and Syntax of URLs (fields starting with : nb_ , shortest/longest , ratio/length etc)\n",
    "  * 24 extracted from the Content of their correspondent pages\n",
    "  * 7 are extracted by querying External Services"
   ]
  },
  {
   "cell_type": "code",
   "execution_count": 81,
   "id": "7a67ae0b",
   "metadata": {},
   "outputs": [
    {
     "name": "stdout",
     "output_type": "stream",
     "text": [
      " The number of legimiate and phishing websites in this dataset\n",
      " legitimate: 5715 \n",
      " phishing: 5715\n"
     ]
    }
   ],
   "source": [
    "leg=data[data[\"status\"]==\"legitimate\"].url.count()\n",
    "phishing=data[data[\"status\"]==\"phishing\"].url.count()\n",
    "print(\" The number of legimiate and phishing websites in this dataset\")\n",
    "print(\" legitimate:\",leg,\"\\n\",\"phishing:\",phishing)"
   ]
  },
  {
   "cell_type": "code",
   "execution_count": 82,
   "id": "21223791",
   "metadata": {},
   "outputs": [
    {
     "data": {
      "text/html": [
       "<div>\n",
       "<style scoped>\n",
       "    .dataframe tbody tr th:only-of-type {\n",
       "        vertical-align: middle;\n",
       "    }\n",
       "\n",
       "    .dataframe tbody tr th {\n",
       "        vertical-align: top;\n",
       "    }\n",
       "\n",
       "    .dataframe thead th {\n",
       "        text-align: right;\n",
       "    }\n",
       "</style>\n",
       "<table border=\"1\" class=\"dataframe\">\n",
       "  <thead>\n",
       "    <tr style=\"text-align: right;\">\n",
       "      <th></th>\n",
       "      <th>length_url</th>\n",
       "      <th>length_hostname</th>\n",
       "      <th>ip</th>\n",
       "      <th>nb_dots</th>\n",
       "      <th>nb_hyphens</th>\n",
       "      <th>nb_at</th>\n",
       "      <th>nb_qm</th>\n",
       "      <th>nb_and</th>\n",
       "      <th>nb_or</th>\n",
       "      <th>nb_eq</th>\n",
       "      <th>...</th>\n",
       "      <th>empty_title</th>\n",
       "      <th>domain_in_title</th>\n",
       "      <th>domain_with_copyright</th>\n",
       "      <th>whois_registered_domain</th>\n",
       "      <th>domain_registration_length</th>\n",
       "      <th>domain_age</th>\n",
       "      <th>web_traffic</th>\n",
       "      <th>dns_record</th>\n",
       "      <th>google_index</th>\n",
       "      <th>page_rank</th>\n",
       "    </tr>\n",
       "  </thead>\n",
       "  <tbody>\n",
       "    <tr>\n",
       "      <th>count</th>\n",
       "      <td>11430.000000</td>\n",
       "      <td>11430.000000</td>\n",
       "      <td>11430.000000</td>\n",
       "      <td>11430.000000</td>\n",
       "      <td>11430.000000</td>\n",
       "      <td>11430.000000</td>\n",
       "      <td>11430.000000</td>\n",
       "      <td>11430.000000</td>\n",
       "      <td>11430.0</td>\n",
       "      <td>11430.000000</td>\n",
       "      <td>...</td>\n",
       "      <td>11430.000000</td>\n",
       "      <td>11430.000000</td>\n",
       "      <td>11430.000000</td>\n",
       "      <td>11430.000000</td>\n",
       "      <td>11430.000000</td>\n",
       "      <td>11430.000000</td>\n",
       "      <td>1.143000e+04</td>\n",
       "      <td>11430.000000</td>\n",
       "      <td>11430.000000</td>\n",
       "      <td>11430.000000</td>\n",
       "    </tr>\n",
       "    <tr>\n",
       "      <th>mean</th>\n",
       "      <td>61.126684</td>\n",
       "      <td>21.090289</td>\n",
       "      <td>0.150569</td>\n",
       "      <td>2.480752</td>\n",
       "      <td>0.997550</td>\n",
       "      <td>0.022222</td>\n",
       "      <td>0.141207</td>\n",
       "      <td>0.162292</td>\n",
       "      <td>0.0</td>\n",
       "      <td>0.293176</td>\n",
       "      <td>...</td>\n",
       "      <td>0.124759</td>\n",
       "      <td>0.775853</td>\n",
       "      <td>0.439545</td>\n",
       "      <td>0.072878</td>\n",
       "      <td>492.532196</td>\n",
       "      <td>4062.543745</td>\n",
       "      <td>8.567566e+05</td>\n",
       "      <td>0.020122</td>\n",
       "      <td>0.533946</td>\n",
       "      <td>3.185739</td>\n",
       "    </tr>\n",
       "    <tr>\n",
       "      <th>std</th>\n",
       "      <td>55.297318</td>\n",
       "      <td>10.777171</td>\n",
       "      <td>0.357644</td>\n",
       "      <td>1.369686</td>\n",
       "      <td>2.087087</td>\n",
       "      <td>0.155500</td>\n",
       "      <td>0.364456</td>\n",
       "      <td>0.821337</td>\n",
       "      <td>0.0</td>\n",
       "      <td>0.998317</td>\n",
       "      <td>...</td>\n",
       "      <td>0.330460</td>\n",
       "      <td>0.417038</td>\n",
       "      <td>0.496353</td>\n",
       "      <td>0.259948</td>\n",
       "      <td>814.769415</td>\n",
       "      <td>3107.784600</td>\n",
       "      <td>1.995606e+06</td>\n",
       "      <td>0.140425</td>\n",
       "      <td>0.498868</td>\n",
       "      <td>2.536955</td>\n",
       "    </tr>\n",
       "    <tr>\n",
       "      <th>min</th>\n",
       "      <td>12.000000</td>\n",
       "      <td>4.000000</td>\n",
       "      <td>0.000000</td>\n",
       "      <td>1.000000</td>\n",
       "      <td>0.000000</td>\n",
       "      <td>0.000000</td>\n",
       "      <td>0.000000</td>\n",
       "      <td>0.000000</td>\n",
       "      <td>0.0</td>\n",
       "      <td>0.000000</td>\n",
       "      <td>...</td>\n",
       "      <td>0.000000</td>\n",
       "      <td>0.000000</td>\n",
       "      <td>0.000000</td>\n",
       "      <td>0.000000</td>\n",
       "      <td>-1.000000</td>\n",
       "      <td>-12.000000</td>\n",
       "      <td>0.000000e+00</td>\n",
       "      <td>0.000000</td>\n",
       "      <td>0.000000</td>\n",
       "      <td>0.000000</td>\n",
       "    </tr>\n",
       "    <tr>\n",
       "      <th>25%</th>\n",
       "      <td>33.000000</td>\n",
       "      <td>15.000000</td>\n",
       "      <td>0.000000</td>\n",
       "      <td>2.000000</td>\n",
       "      <td>0.000000</td>\n",
       "      <td>0.000000</td>\n",
       "      <td>0.000000</td>\n",
       "      <td>0.000000</td>\n",
       "      <td>0.0</td>\n",
       "      <td>0.000000</td>\n",
       "      <td>...</td>\n",
       "      <td>0.000000</td>\n",
       "      <td>1.000000</td>\n",
       "      <td>0.000000</td>\n",
       "      <td>0.000000</td>\n",
       "      <td>84.000000</td>\n",
       "      <td>972.250000</td>\n",
       "      <td>0.000000e+00</td>\n",
       "      <td>0.000000</td>\n",
       "      <td>0.000000</td>\n",
       "      <td>1.000000</td>\n",
       "    </tr>\n",
       "    <tr>\n",
       "      <th>50%</th>\n",
       "      <td>47.000000</td>\n",
       "      <td>19.000000</td>\n",
       "      <td>0.000000</td>\n",
       "      <td>2.000000</td>\n",
       "      <td>0.000000</td>\n",
       "      <td>0.000000</td>\n",
       "      <td>0.000000</td>\n",
       "      <td>0.000000</td>\n",
       "      <td>0.0</td>\n",
       "      <td>0.000000</td>\n",
       "      <td>...</td>\n",
       "      <td>0.000000</td>\n",
       "      <td>1.000000</td>\n",
       "      <td>0.000000</td>\n",
       "      <td>0.000000</td>\n",
       "      <td>242.000000</td>\n",
       "      <td>3993.000000</td>\n",
       "      <td>1.651000e+03</td>\n",
       "      <td>0.000000</td>\n",
       "      <td>1.000000</td>\n",
       "      <td>3.000000</td>\n",
       "    </tr>\n",
       "    <tr>\n",
       "      <th>75%</th>\n",
       "      <td>71.000000</td>\n",
       "      <td>24.000000</td>\n",
       "      <td>0.000000</td>\n",
       "      <td>3.000000</td>\n",
       "      <td>1.000000</td>\n",
       "      <td>0.000000</td>\n",
       "      <td>0.000000</td>\n",
       "      <td>0.000000</td>\n",
       "      <td>0.0</td>\n",
       "      <td>0.000000</td>\n",
       "      <td>...</td>\n",
       "      <td>0.000000</td>\n",
       "      <td>1.000000</td>\n",
       "      <td>1.000000</td>\n",
       "      <td>0.000000</td>\n",
       "      <td>449.000000</td>\n",
       "      <td>7026.750000</td>\n",
       "      <td>3.738455e+05</td>\n",
       "      <td>0.000000</td>\n",
       "      <td>1.000000</td>\n",
       "      <td>5.000000</td>\n",
       "    </tr>\n",
       "    <tr>\n",
       "      <th>max</th>\n",
       "      <td>1641.000000</td>\n",
       "      <td>214.000000</td>\n",
       "      <td>1.000000</td>\n",
       "      <td>24.000000</td>\n",
       "      <td>43.000000</td>\n",
       "      <td>4.000000</td>\n",
       "      <td>3.000000</td>\n",
       "      <td>19.000000</td>\n",
       "      <td>0.0</td>\n",
       "      <td>19.000000</td>\n",
       "      <td>...</td>\n",
       "      <td>1.000000</td>\n",
       "      <td>1.000000</td>\n",
       "      <td>1.000000</td>\n",
       "      <td>1.000000</td>\n",
       "      <td>29829.000000</td>\n",
       "      <td>12874.000000</td>\n",
       "      <td>1.076799e+07</td>\n",
       "      <td>1.000000</td>\n",
       "      <td>1.000000</td>\n",
       "      <td>10.000000</td>\n",
       "    </tr>\n",
       "  </tbody>\n",
       "</table>\n",
       "<p>8 rows × 87 columns</p>\n",
       "</div>"
      ],
      "text/plain": [
       "         length_url  length_hostname            ip       nb_dots  \\\n",
       "count  11430.000000     11430.000000  11430.000000  11430.000000   \n",
       "mean      61.126684        21.090289      0.150569      2.480752   \n",
       "std       55.297318        10.777171      0.357644      1.369686   \n",
       "min       12.000000         4.000000      0.000000      1.000000   \n",
       "25%       33.000000        15.000000      0.000000      2.000000   \n",
       "50%       47.000000        19.000000      0.000000      2.000000   \n",
       "75%       71.000000        24.000000      0.000000      3.000000   \n",
       "max     1641.000000       214.000000      1.000000     24.000000   \n",
       "\n",
       "         nb_hyphens         nb_at         nb_qm        nb_and    nb_or  \\\n",
       "count  11430.000000  11430.000000  11430.000000  11430.000000  11430.0   \n",
       "mean       0.997550      0.022222      0.141207      0.162292      0.0   \n",
       "std        2.087087      0.155500      0.364456      0.821337      0.0   \n",
       "min        0.000000      0.000000      0.000000      0.000000      0.0   \n",
       "25%        0.000000      0.000000      0.000000      0.000000      0.0   \n",
       "50%        0.000000      0.000000      0.000000      0.000000      0.0   \n",
       "75%        1.000000      0.000000      0.000000      0.000000      0.0   \n",
       "max       43.000000      4.000000      3.000000     19.000000      0.0   \n",
       "\n",
       "              nb_eq  ...   empty_title  domain_in_title  \\\n",
       "count  11430.000000  ...  11430.000000     11430.000000   \n",
       "mean       0.293176  ...      0.124759         0.775853   \n",
       "std        0.998317  ...      0.330460         0.417038   \n",
       "min        0.000000  ...      0.000000         0.000000   \n",
       "25%        0.000000  ...      0.000000         1.000000   \n",
       "50%        0.000000  ...      0.000000         1.000000   \n",
       "75%        0.000000  ...      0.000000         1.000000   \n",
       "max       19.000000  ...      1.000000         1.000000   \n",
       "\n",
       "       domain_with_copyright  whois_registered_domain  \\\n",
       "count           11430.000000             11430.000000   \n",
       "mean                0.439545                 0.072878   \n",
       "std                 0.496353                 0.259948   \n",
       "min                 0.000000                 0.000000   \n",
       "25%                 0.000000                 0.000000   \n",
       "50%                 0.000000                 0.000000   \n",
       "75%                 1.000000                 0.000000   \n",
       "max                 1.000000                 1.000000   \n",
       "\n",
       "       domain_registration_length    domain_age   web_traffic    dns_record  \\\n",
       "count                11430.000000  11430.000000  1.143000e+04  11430.000000   \n",
       "mean                   492.532196   4062.543745  8.567566e+05      0.020122   \n",
       "std                    814.769415   3107.784600  1.995606e+06      0.140425   \n",
       "min                     -1.000000    -12.000000  0.000000e+00      0.000000   \n",
       "25%                     84.000000    972.250000  0.000000e+00      0.000000   \n",
       "50%                    242.000000   3993.000000  1.651000e+03      0.000000   \n",
       "75%                    449.000000   7026.750000  3.738455e+05      0.000000   \n",
       "max                  29829.000000  12874.000000  1.076799e+07      1.000000   \n",
       "\n",
       "       google_index     page_rank  \n",
       "count  11430.000000  11430.000000  \n",
       "mean       0.533946      3.185739  \n",
       "std        0.498868      2.536955  \n",
       "min        0.000000      0.000000  \n",
       "25%        0.000000      1.000000  \n",
       "50%        1.000000      3.000000  \n",
       "75%        1.000000      5.000000  \n",
       "max        1.000000     10.000000  \n",
       "\n",
       "[8 rows x 87 columns]"
      ]
     },
     "execution_count": 82,
     "metadata": {},
     "output_type": "execute_result"
    }
   ],
   "source": [
    "data.describe()\n",
    "# max values shows the outliers"
   ]
  },
  {
   "cell_type": "code",
   "execution_count": 83,
   "id": "304b7f79",
   "metadata": {},
   "outputs": [
    {
     "data": {
      "text/html": [
       "<div>\n",
       "<style scoped>\n",
       "    .dataframe tbody tr th:only-of-type {\n",
       "        vertical-align: middle;\n",
       "    }\n",
       "\n",
       "    .dataframe tbody tr th {\n",
       "        vertical-align: top;\n",
       "    }\n",
       "\n",
       "    .dataframe thead th {\n",
       "        text-align: right;\n",
       "    }\n",
       "</style>\n",
       "<table border=\"1\" class=\"dataframe\">\n",
       "  <thead>\n",
       "    <tr style=\"text-align: right;\">\n",
       "      <th></th>\n",
       "      <th>url</th>\n",
       "      <th>target</th>\n",
       "    </tr>\n",
       "  </thead>\n",
       "  <tbody>\n",
       "    <tr>\n",
       "      <th>0</th>\n",
       "      <td>http://www.crestonwood.com/router.php</td>\n",
       "      <td>0</td>\n",
       "    </tr>\n",
       "    <tr>\n",
       "      <th>1</th>\n",
       "      <td>http://shadetreetechnology.com/V4/validation/a...</td>\n",
       "      <td>1</td>\n",
       "    </tr>\n",
       "    <tr>\n",
       "      <th>2</th>\n",
       "      <td>https://support-appleld.com.secureupdate.duila...</td>\n",
       "      <td>1</td>\n",
       "    </tr>\n",
       "    <tr>\n",
       "      <th>3</th>\n",
       "      <td>http://rgipt.ac.in</td>\n",
       "      <td>0</td>\n",
       "    </tr>\n",
       "    <tr>\n",
       "      <th>4</th>\n",
       "      <td>http://www.iracing.com/tracks/gateway-motorspo...</td>\n",
       "      <td>0</td>\n",
       "    </tr>\n",
       "  </tbody>\n",
       "</table>\n",
       "</div>"
      ],
      "text/plain": [
       "                                                 url  target\n",
       "0              http://www.crestonwood.com/router.php       0\n",
       "1  http://shadetreetechnology.com/V4/validation/a...       1\n",
       "2  https://support-appleld.com.secureupdate.duila...       1\n",
       "3                                 http://rgipt.ac.in       0\n",
       "4  http://www.iracing.com/tracks/gateway-motorspo...       0"
      ]
     },
     "execution_count": 83,
     "metadata": {},
     "output_type": "execute_result"
    }
   ],
   "source": [
    "# change status to numerical 1 for phishing and 0 for legitimate websites\n",
    "data['target']=pd.get_dummies(data['status'])['phishing'].astype('int')\n",
    "data.drop('status',axis=1,inplace=True)\n",
    "data[['url','target']].head(5)"
   ]
  },
  {
   "cell_type": "code",
   "execution_count": 84,
   "id": "a3aae8c7",
   "metadata": {},
   "outputs": [],
   "source": [
    "data.drop('url',axis=1,inplace=True)"
   ]
  },
  {
   "cell_type": "code",
   "execution_count": 85,
   "id": "48ca8eb6",
   "metadata": {},
   "outputs": [
    {
     "data": {
      "text/html": [
       "<div>\n",
       "<style scoped>\n",
       "    .dataframe tbody tr th:only-of-type {\n",
       "        vertical-align: middle;\n",
       "    }\n",
       "\n",
       "    .dataframe tbody tr th {\n",
       "        vertical-align: top;\n",
       "    }\n",
       "\n",
       "    .dataframe thead th {\n",
       "        text-align: right;\n",
       "    }\n",
       "</style>\n",
       "<table border=\"1\" class=\"dataframe\">\n",
       "  <thead>\n",
       "    <tr style=\"text-align: right;\">\n",
       "      <th></th>\n",
       "      <th>index</th>\n",
       "      <th>missing_val</th>\n",
       "    </tr>\n",
       "  </thead>\n",
       "  <tbody>\n",
       "  </tbody>\n",
       "</table>\n",
       "</div>"
      ],
      "text/plain": [
       "Empty DataFrame\n",
       "Columns: [index, missing_val]\n",
       "Index: []"
      ]
     },
     "execution_count": 85,
     "metadata": {},
     "output_type": "execute_result"
    }
   ],
   "source": [
    "# search for missing values in dataset\n",
    "temp=data.isnull().sum().reset_index(name='missing_val')\n",
    "temp[temp[\"missing_val\"]!=0]"
   ]
  },
  {
   "cell_type": "markdown",
   "id": "685f6f47",
   "metadata": {},
   "source": [
    "#### Feature Selection"
   ]
  },
  {
   "cell_type": "markdown",
   "id": "69fc9510",
   "metadata": {},
   "source": [
    "##### Corrolation"
   ]
  },
  {
   "cell_type": "code",
   "execution_count": 86,
   "id": "385a2ee7",
   "metadata": {},
   "outputs": [
    {
     "data": {
      "text/plain": [
       "Index(['google_index', 'ratio_digits_url', 'domain_in_title', 'phish_hints',\n",
       "       'ip', 'nb_qm', 'length_url', 'nb_slash', 'length_hostname', 'nb_eq',\n",
       "       'ratio_digits_host', 'shortest_word_host', 'prefix_suffix',\n",
       "       'longest_word_path', 'tld_in_subdomain', 'empty_title', 'nb_dots',\n",
       "       'longest_words_raw', 'ratio_intHyperlinks', 'domain_age',\n",
       "       'nb_hyperlinks', 'nb_www', 'page_rank'],\n",
       "      dtype='object')"
      ]
     },
     "execution_count": 86,
     "metadata": {},
     "output_type": "execute_result"
    }
   ],
   "source": [
    "threshold=0.2\n",
    "corr_matrix = data.corr()\n",
    "temp=pd.DataFrame(corr_matrix['target'].sort_values(ascending=False))\n",
    "features_corr=temp[abs(temp[\"target\"])>threshold].index[1:]\n",
    "features_corr"
   ]
  },
  {
   "cell_type": "markdown",
   "id": "1da4dae5",
   "metadata": {},
   "source": [
    "##### Information Gain"
   ]
  },
  {
   "cell_type": "code",
   "execution_count": 87,
   "id": "8fef9d8b",
   "metadata": {},
   "outputs": [],
   "source": [
    "X_fetures=data.loc[:, ~data.columns.isin(['target'])]\n",
    "y_target=data['target']"
   ]
  },
  {
   "cell_type": "code",
   "execution_count": 137,
   "id": "c517e987",
   "metadata": {
    "scrolled": true
   },
   "outputs": [
    {
     "data": {
      "text/plain": [
       "web_traffic                   0.298860\n",
       "google_index                  0.296510\n",
       "domain_age                    0.277982\n",
       "ratio_intHyperlinks           0.240358\n",
       "ratio_extHyperlinks           0.237238\n",
       "nb_hyperlinks                 0.232169\n",
       "page_rank                     0.215773\n",
       "safe_anchor                   0.176703\n",
       "domain_registration_length    0.151519\n",
       "ratio_extRedirection          0.126872\n",
       "links_in_tags                 0.121950\n",
       "nb_www                        0.114639\n",
       "longest_word_path             0.107538\n",
       "ratio_digits_url              0.092536\n",
       "avg_word_path                 0.085819\n",
       "avg_word_host                 0.083378\n",
       "ratio_extErrors               0.083146\n",
       "phish_hints                   0.080640\n",
       "char_repeat                   0.077578\n",
       "longest_words_raw             0.077066\n",
       "dtype: float64"
      ]
     },
     "execution_count": 137,
     "metadata": {},
     "output_type": "execute_result"
    }
   ],
   "source": [
    "# determine the mutual information\n",
    "mutual_info = mutual_info_classif(X_fetures,y_target)\n",
    "mutual_info = pd.Series(mutual_info)\n",
    "mutual_info.index = X_fetures.columns\n",
    "info_ig=mutual_info.sort_values(ascending=False)\n",
    "info_ig[0:20]"
   ]
  },
  {
   "cell_type": "code",
   "execution_count": 89,
   "id": "fc825725",
   "metadata": {},
   "outputs": [
    {
     "data": {
      "text/plain": [
       "Index(['nb_www', 'ratio_digits_url', 'shortest_word_host', 'longest_word_path',\n",
       "       'avg_words_raw', 'avg_word_host', 'avg_word_path', 'phish_hints',\n",
       "       'nb_hyperlinks', 'ratio_intHyperlinks', 'ratio_extHyperlinks',\n",
       "       'ratio_extRedirection', 'ratio_extErrors', 'links_in_tags',\n",
       "       'safe_anchor', 'domain_registration_length', 'domain_age',\n",
       "       'web_traffic', 'google_index', 'page_rank'],\n",
       "      dtype='object')"
      ]
     },
     "execution_count": 89,
     "metadata": {},
     "output_type": "execute_result"
    }
   ],
   "source": [
    "#we Will select the top 20 important features\n",
    "sel_cols = SelectKBest(mutual_info_classif, k=20)\n",
    "sel_cols.fit(X_fetures,y_target)\n",
    "features_ig=X_fetures.columns[sel_cols.get_support()]\n",
    "features_ig"
   ]
  },
  {
   "cell_type": "code",
   "execution_count": 90,
   "id": "19bd874c",
   "metadata": {},
   "outputs": [],
   "source": [
    "feature=features_ig\n",
    "X=data.loc[:, data.columns.isin(feature)]\n",
    "y=data['target']"
   ]
  },
  {
   "cell_type": "code",
   "execution_count": 91,
   "id": "1c7e84bc",
   "metadata": {},
   "outputs": [],
   "source": [
    "Scaler = StandardScaler(copy=True , with_mean=True , with_std=True)\n",
    "X = pd.DataFrame(Scaler.fit_transform(X))"
   ]
  },
  {
   "cell_type": "code",
   "execution_count": 92,
   "id": "aa84f104",
   "metadata": {},
   "outputs": [],
   "source": [
    "X_train, X_test, y_train, y_test = train_test_split(X, y,\n",
    "                                                    test_size=0.2,\n",
    "                                                    random_state=42,\n",
    "                                                    shuffle = True)"
   ]
  },
  {
   "cell_type": "markdown",
   "id": "18c25ac3",
   "metadata": {},
   "source": [
    "### Machine Learning Models"
   ]
  },
  {
   "cell_type": "markdown",
   "id": "4545c096",
   "metadata": {},
   "source": [
    "#### Random Forest"
   ]
  },
  {
   "cell_type": "code",
   "execution_count": 93,
   "id": "c10593f4",
   "metadata": {},
   "outputs": [],
   "source": [
    "scores=[]"
   ]
  },
  {
   "cell_type": "code",
   "execution_count": 94,
   "id": "8cdc925b",
   "metadata": {},
   "outputs": [
    {
     "data": {
      "text/plain": [
       "RandomForestClassifier(n_estimators=200, random_state=42)"
      ]
     },
     "execution_count": 94,
     "metadata": {},
     "output_type": "execute_result"
    }
   ],
   "source": [
    "model_random_forest = RandomForestClassifier(n_estimators=200, \n",
    "                                             random_state=42)\n",
    "model_random_forest.fit(X_train,y_train)                                         "
   ]
  },
  {
   "cell_type": "code",
   "execution_count": 95,
   "id": "0fd06e32",
   "metadata": {},
   "outputs": [
    {
     "name": "stdout",
     "output_type": "stream",
     "text": [
      "Model Accuracy: 0.957130\n",
      "Confusion Matrix: \n",
      " [[1112   45]\n",
      " [  53 1076]]\n",
      "True Positive(TP):  1076 False Negative(FN):    53\n",
      "False Positive(FP):  45 True Negative(TN):  1112\n"
     ]
    }
   ],
   "source": [
    "y_predicted=model_random_forest.predict(X_test)\n",
    "accuracy_RFC = accuracy_score(y_test, y_predicted)\n",
    "print('Model Accuracy: {0:4f}'.format(accuracy_RFC))\n",
    "oconfusion_matrix = confusion_matrix(y_test, y_predicted)\n",
    "print('Confusion Matrix: \\n {}'.format(oconfusion_matrix))\n",
    "tn, fp, fn, tp=oconfusion_matrix.ravel()\n",
    "print(\"True Positive(TP): \", tp,\"False Negative(FN): \",\" \", fn)\n",
    "print( \"False Positive(FP): \",fp, \"True Negative(TN): \", tn)"
   ]
  },
  {
   "cell_type": "markdown",
   "id": "7019642a",
   "metadata": {},
   "source": [
    "#### SVM"
   ]
  },
  {
   "cell_type": "code",
   "execution_count": 96,
   "id": "23d88c0d",
   "metadata": {},
   "outputs": [],
   "source": [
    "# Building a Support Vector Machine on train data\n",
    "svc_model = SVC(C=0.01,kernel=\"sigmoid\" , max_iter=10000 , gamma=\"auto\",probability=True)"
   ]
  },
  {
   "cell_type": "code",
   "execution_count": 97,
   "id": "704caef7",
   "metadata": {},
   "outputs": [
    {
     "data": {
      "text/plain": [
       "SVC(C=0.01, gamma='auto', kernel='sigmoid', max_iter=10000, probability=True)"
      ]
     },
     "execution_count": 97,
     "metadata": {},
     "output_type": "execute_result"
    }
   ],
   "source": [
    "svc_model.fit(X_train, y_train)"
   ]
  },
  {
   "cell_type": "code",
   "execution_count": 98,
   "id": "2feed4cb",
   "metadata": {},
   "outputs": [
    {
     "name": "stdout",
     "output_type": "stream",
     "text": [
      "Model Accuracy: 0.915573\n",
      "Confusion Matrix: \n",
      " [[1039  118]\n",
      " [  75 1054]]\n",
      "True Positive(TP):  1054 False Negative(FN):    75\n",
      "False Positive(FP):  118 True Negative(TN):  1039\n"
     ]
    }
   ],
   "source": [
    "prediction = svc_model.predict(X_test)\n",
    "accuracy_SVM = accuracy_score(y_test, prediction)\n",
    "print('Model Accuracy: {0:4f}'.format(accuracy_SVM))\n",
    "sconfusion_matrix = confusion_matrix(y_test, prediction)\n",
    "print('Confusion Matrix: \\n {}'.format(sconfusion_matrix))\n",
    "tn, fp, fn, tp = sconfusion_matrix.ravel()\n",
    "print(\"True Positive(TP): \", tp,\"False Negative(FN): \",\" \", fn)\n",
    "print( \"False Positive(FP): \",fp, \"True Negative(TN): \", tn)"
   ]
  },
  {
   "cell_type": "markdown",
   "id": "d28cfc70",
   "metadata": {},
   "source": [
    "#### K-nearest Neighbor"
   ]
  },
  {
   "cell_type": "code",
   "execution_count": 99,
   "id": "6be9a29f",
   "metadata": {},
   "outputs": [],
   "source": [
    "neighbour = []\n",
    "accuracy = []\n",
    "for k in range(1, 10):\n",
    "      k_near = KNeighborsClassifier(n_neighbors=k)\n",
    "      k_near.fit(X_train, y_train)\n",
    "      Y_pre_test = k_near.predict(X_test)\n",
    "      test_accurry = accuracy_score(Y_pre_test, y_test)\n",
    "      neighbour.append(k)\n",
    "      accuracy.append(test_accurry)"
   ]
  },
  {
   "cell_type": "code",
   "execution_count": 100,
   "id": "06651205",
   "metadata": {},
   "outputs": [
    {
     "data": {
      "text/plain": [
       "Text(0, 0.5, 'accuracy')"
      ]
     },
     "execution_count": 100,
     "metadata": {},
     "output_type": "execute_result"
    },
    {
     "data": {
      "image/png": "[encoded data removed]",
      "text/plain": [
       "<Figure size 432x288 with 1 Axes>"
      ]
     },
     "metadata": {
      "needs_background": "light"
     },
     "output_type": "display_data"
    }
   ],
   "source": [
    "# plotting for n neighbour vs accuracy\n",
    "plt.plot(neighbour, accuracy)\n",
    "plt.title('n neighbour vs accuracy')\n",
    "plt.xlabel('n neighbour')\n",
    "plt.ylabel('accuracy')"
   ]
  },
  {
   "cell_type": "code",
   "execution_count": 101,
   "id": "2db0b82d",
   "metadata": {},
   "outputs": [
    {
     "data": {
      "text/plain": [
       "KNeighborsClassifier()"
      ]
     },
     "execution_count": 101,
     "metadata": {},
     "output_type": "execute_result"
    }
   ],
   "source": [
    "k_near = KNeighborsClassifier(n_neighbors=5)\n",
    "k_near.fit(X_train,y_train)"
   ]
  },
  {
   "cell_type": "code",
   "execution_count": 102,
   "id": "cc355d73",
   "metadata": {},
   "outputs": [],
   "source": [
    "Y_prediction = k_near.predict(X_test)"
   ]
  },
  {
   "cell_type": "code",
   "execution_count": 103,
   "id": "18cee7de",
   "metadata": {},
   "outputs": [
    {
     "name": "stdout",
     "output_type": "stream",
     "text": [
      "Model Accuracy: 0.944444\n",
      "Confusion Matrix: \n",
      " [[1093   64]\n",
      " [  63 1066]]\n",
      "True Positive(TP):  1066 False Negative(FN):    63\n",
      "False Positive(FP):  64 True Negative(TN):  1093\n"
     ]
    }
   ],
   "source": [
    "accuracy_KNN = accuracy_score(y_test, Y_prediction)\n",
    "print('Model Accuracy: {0:4f}'.format(accuracy_KNN))\n",
    "kconfusion_matrix = confusion_matrix(y_test, Y_prediction)\n",
    "print('Confusion Matrix: \\n {}'.format(kconfusion_matrix))\n",
    "tn, fp, fn, tp = kconfusion_matrix.ravel()\n",
    "print(\"True Positive(TP): \", tp,\"False Negative(FN): \",\" \", fn)\n",
    "print( \"False Positive(FP): \",fp, \"True Negative(TN): \", tn)"
   ]
  },
  {
   "cell_type": "markdown",
   "id": "db58e618",
   "metadata": {},
   "source": [
    "#### Logistic Regression"
   ]
  },
  {
   "cell_type": "code",
   "execution_count": 104,
   "id": "0ae4b08a",
   "metadata": {},
   "outputs": [
    {
     "name": "stdout",
     "output_type": "stream",
     "text": [
      "Accuracy for test dataset for logistic reg :  0.9335083114610674\n"
     ]
    }
   ],
   "source": [
    "#logistic regression\n",
    "lgr = LogisticRegression(solver ='lbfgs',max_iter=1000)\n",
    "lgr.fit(X_train,y_train)\n",
    "y_pre_test = lgr.predict(X_test)\n",
    "accuracy_lg = accuracy_score(y_pre_test, y_test)\n",
    "print('Accuracy for test dataset for logistic reg : ', accuracy_lg)"
   ]
  },
  {
   "cell_type": "code",
   "execution_count": 105,
   "id": "6fb3a726",
   "metadata": {},
   "outputs": [
    {
     "name": "stdout",
     "output_type": "stream",
     "text": [
      "Confusion Matrix: \n",
      " [[1078   79]\n",
      " [  73 1056]]\n",
      "True Positive(TP):  1056 False Negative(FN):    73\n",
      "False Positive(FP):  79 True Negative(TN):  1078\n"
     ]
    }
   ],
   "source": [
    "lconfusion_matrix = confusion_matrix(y_test, y_pre_test)\n",
    "print('Confusion Matrix: \\n {}'.format(lconfusion_matrix))\n",
    "tn, fp, fn, tp = lconfusion_matrix.ravel()\n",
    "print(\"True Positive(TP): \", tp,\"False Negative(FN): \",\" \", fn)\n",
    "print( \"False Positive(FP): \",fp, \"True Negative(TN): \", tn)"
   ]
  },
  {
   "cell_type": "markdown",
   "id": "d2c2dc90",
   "metadata": {},
   "source": [
    "#### Naive Bays"
   ]
  },
  {
   "cell_type": "code",
   "execution_count": 106,
   "id": "c7474217",
   "metadata": {},
   "outputs": [],
   "source": [
    "nvb = BernoulliNB()\n",
    "nvb.fit(X_train,y_train)\n",
    "y_pre_test = nvb.predict(X_test)"
   ]
  },
  {
   "cell_type": "code",
   "execution_count": 107,
   "id": "903b3997",
   "metadata": {},
   "outputs": [
    {
     "name": "stdout",
     "output_type": "stream",
     "text": [
      "Accuracy for test dataset for naive bayes reg :  0.905511811023622\n"
     ]
    }
   ],
   "source": [
    "accuracy_nb = accuracy_score(y_pre_test, y_test)\n",
    "print('Accuracy for test dataset for naive bayes reg : ', accuracy_nb)"
   ]
  },
  {
   "cell_type": "code",
   "execution_count": 108,
   "id": "41601c0a",
   "metadata": {},
   "outputs": [
    {
     "name": "stdout",
     "output_type": "stream",
     "text": [
      "Confusion Matrix: \n",
      " [[1034  123]\n",
      " [  93 1036]]\n",
      "True Positive(TP):  1036 False Negative(FN):    93\n",
      "False Positive(FP):  123 True Negative(TN):  1034\n"
     ]
    }
   ],
   "source": [
    "nconfusion_matrix = confusion_matrix(y_test, y_pre_test)\n",
    "print('Confusion Matrix: \\n {}'.format(nconfusion_matrix))\n",
    "tn, fp, fn, tp = nconfusion_matrix.ravel()\n",
    "print(\"True Positive(TP): \", tp,\"False Negative(FN): \",\" \", fn)\n",
    "print( \"False Positive(FP): \",fp, \"True Negative(TN): \", tn)"
   ]
  },
  {
   "cell_type": "markdown",
   "id": "345f08d5",
   "metadata": {},
   "source": [
    "##### Hybrid ensembler using weighted_voting"
   ]
  },
  {
   "cell_type": "code",
   "execution_count": 109,
   "id": "5bc95927",
   "metadata": {},
   "outputs": [],
   "source": [
    "scores=[]"
   ]
  },
  {
   "cell_type": "code",
   "execution_count": 110,
   "id": "a0ac1bba",
   "metadata": {},
   "outputs": [
    {
     "name": "stdout",
     "output_type": "stream",
     "text": [
      "[0.9571303587051618, 0.915573053368329, 0.9444444444444444, 0.9335083114610674, 0.905511811023622]\n"
     ]
    }
   ],
   "source": [
    "scores.append(accuracy_RFC)\n",
    "scores.append(accuracy_SVM)\n",
    "scores.append(accuracy_KNN)\n",
    "scores.append(accuracy_lg)\n",
    "scores.append(accuracy_nb)\n",
    "print(scores)"
   ]
  },
  {
   "cell_type": "code",
   "execution_count": 111,
   "id": "df3a011a",
   "metadata": {},
   "outputs": [],
   "source": [
    "model_1 = model_random_forest\n",
    "model_2 = svc_model\n",
    "model_3 = k_near\n",
    "model_4 = lgr\n",
    "model_5 = nvb\n",
    "ensemble = VotingClassifier(estimators=[('RandomForest', model_1), ('SVC', model_2), ('KNN', model_3), ('LogisticRegression', model_4),\n",
    "                                        ('NaiveBayes', model_5)], voting='soft', weights=scores)"
   ]
  },
  {
   "cell_type": "code",
   "execution_count": 112,
   "id": "95d55f0f",
   "metadata": {},
   "outputs": [],
   "source": [
    "ensemble.fit(X_train, y_train)\n",
    "y_pred_test = ensemble.predict(X_test)"
   ]
  },
  {
   "cell_type": "code",
   "execution_count": 113,
   "id": "cbb774e2",
   "metadata": {},
   "outputs": [
    {
     "name": "stdout",
     "output_type": "stream",
     "text": [
      "Accuracy for test dataset for ensemble model:  0.9461942257217848\n"
     ]
    }
   ],
   "source": [
    "test_accurry = accuracy_score(y_pred_test, y_test)\n",
    "print('Accuracy for test dataset for ensemble model: ', test_accurry)"
   ]
  },
  {
   "cell_type": "code",
   "execution_count": 114,
   "id": "4eb53554",
   "metadata": {},
   "outputs": [
    {
     "name": "stdout",
     "output_type": "stream",
     "text": [
      "Confusion Matrix: \n",
      " [[1034  123]\n",
      " [  93 1036]]\n",
      "True Positive(TP):  1036 False Negative(FN):    93\n",
      "False Positive(FP):  123 True Negative(TN):  1034\n"
     ]
    }
   ],
   "source": [
    "econfusion_matrix = confusion_matrix(y_test, y_pre_test)\n",
    "print('Confusion Matrix: \\n {}'.format(econfusion_matrix))\n",
    "tn, fp, fn, tp = econfusion_matrix.ravel()\n",
    "print(\"True Positive(TP): \", tp,\"False Negative(FN): \",\" \", fn)\n",
    "print( \"False Positive(FP): \",fp, \"True Negative(TN): \", tn)"
   ]
  },
  {
   "cell_type": "code",
   "execution_count": null,
   "id": "c1e06415",
   "metadata": {},
   "outputs": [],
   "source": []
  }
 ],
 "metadata": {
  "kernelspec": {
   "display_name": "Python 3 (ipykernel)",
   "language": "python",
   "name": "python3"
  },
  "language_info": {
   "codemirror_mode": {
    "name": "ipython",
    "version": 3
   },
   "file_extension": ".py",
   "mimetype": "text/x-python",
   "name": "python",
   "nbconvert_exporter": "python",
   "pygments_lexer": "ipython3",
   "version": "3.9.12"
  }
 },
 "nbformat": 4,
 "nbformat_minor": 5
}
